{
 "cells": [
  {
   "cell_type": "markdown",
   "metadata": {},
   "source": [
    "# Python and pandas for deep learning\n",
    "> Using Python and pandas for working with your files"
   ]
  },
  {
   "cell_type": "markdown",
   "metadata": {},
   "source": [
    "In this notebook, we examine how one can work with files, particularly with pandas to get the data in a desired format for usage with deep learning packages.  If you're working with Google Colab without Google Drive mounted, keep in mind that you will not be able to use `glob` as one normally would.  As a workaround, we'll load the data files directly from the source."
   ]
  },
  {
   "cell_type": "code",
   "execution_count": null,
   "metadata": {},
   "outputs": [],
   "source": [
    "#import data science packages\n",
    "import pandas as pd\n",
    "import numpy as np\n",
    "import seaborn as sns\n",
    "\n",
    "#import file helper packages\n",
    "import glob\n",
    "import requests"
   ]
  },
  {
   "cell_type": "code",
   "execution_count": null,
   "metadata": {},
   "outputs": [],
   "source": [
    "#colab helper \n",
    "colab=True"
   ]
  },
  {
   "cell_type": "markdown",
   "metadata": {},
   "source": [
    "# Example scenario\n",
    "You're working with the text of number of magazine articles, written by a number of authors, whose names are not included in the text.  The magazine articles have unique IDs, which are given by their filenames.  \n",
    "\n",
    "You also have an accompanying CSV file with details about all of the authors, including their name, age, years of employment as a journalist, college major, and IDs corresponding to the articles that they've written.  \n",
    "\n",
    "You're interested in learning whether their college major affects the sentiments of their articles.  The only data that you have access to is gathered on a particular day over a set of journalists and articles.  You've decided that the first crack you'll take about understanding this relationship is to separate the journalists (or articles) into groups according to their college major, and count the sentiments for all the corresponding articles for each group."
   ]
  },
  {
   "cell_type": "markdown",
   "metadata": {},
   "source": [
    "## Access data\n",
    "The first thing you'll need to do is get some data, and be able to load it for processing with Python.  For this, you can generally use the `glob` package on a local computer or somewhere that you have the files mounted.  If you're local, you can follow the steps below.  Otherwise, we'll implement a quick workaround for Google Colab."
   ]
  },
  {
   "cell_type": "code",
   "execution_count": null,
   "metadata": {},
   "outputs": [
    {
     "data": {
      "text/plain": [
       "[]"
      ]
     },
     "execution_count": null,
     "metadata": {},
     "output_type": "execute_result"
    }
   ],
   "source": [
    "filenames=[]\n",
    "if colab is False:\n",
    "    filenames = glob.glob('./*/*.txt')\n",
    "filenames"
   ]
  },
  {
   "cell_type": "markdown",
   "metadata": {},
   "source": [
    "### Assemble filenames\n",
    "A filename is a path to a file.  Here, we have the \"directory\" of the file with the list of short names of the file.  If we concatenate (add) these two parts together, we can have an entire filename for each path.  We could then use this to get the text!  Let's use a list comprehension to concatenate the strings together (e.g., using `+` between two strings).  You can use the string function `str()` to convert a numeric to a string.  \n",
    "\n",
    "**Take a minute and try to do this on your own.**  It may help to narrate what you're trying to do to yourself."
   ]
  },
  {
   "cell_type": "code",
   "execution_count": null,
   "metadata": {},
   "outputs": [
    {
     "data": {
      "text/plain": [
       "['https://raw.githubusercontent.com/vanderbilt-data-science/python-for-deep-learning-workshop/master/workshop-files/551293.txt',\n",
       " 'https://raw.githubusercontent.com/vanderbilt-data-science/python-for-deep-learning-workshop/master/workshop-files/373587.txt',\n",
       " 'https://raw.githubusercontent.com/vanderbilt-data-science/python-for-deep-learning-workshop/master/workshop-files/597061.txt',\n",
       " 'https://raw.githubusercontent.com/vanderbilt-data-science/python-for-deep-learning-workshop/master/workshop-files/434648.txt',\n",
       " 'https://raw.githubusercontent.com/vanderbilt-data-science/python-for-deep-learning-workshop/master/workshop-files/532970.txt',\n",
       " 'https://raw.githubusercontent.com/vanderbilt-data-science/python-for-deep-learning-workshop/master/workshop-files/520668.txt',\n",
       " 'https://raw.githubusercontent.com/vanderbilt-data-science/python-for-deep-learning-workshop/master/workshop-files/209035.txt',\n",
       " 'https://raw.githubusercontent.com/vanderbilt-data-science/python-for-deep-learning-workshop/master/workshop-files/830014.txt',\n",
       " 'https://raw.githubusercontent.com/vanderbilt-data-science/python-for-deep-learning-workshop/master/workshop-files/671125.txt',\n",
       " 'https://raw.githubusercontent.com/vanderbilt-data-science/python-for-deep-learning-workshop/master/workshop-files/893941.txt',\n",
       " 'https://raw.githubusercontent.com/vanderbilt-data-science/python-for-deep-learning-workshop/master/workshop-files/479957.txt',\n",
       " 'https://raw.githubusercontent.com/vanderbilt-data-science/python-for-deep-learning-workshop/master/workshop-files/541893.txt',\n",
       " 'https://raw.githubusercontent.com/vanderbilt-data-science/python-for-deep-learning-workshop/master/workshop-files/836261.txt',\n",
       " 'https://raw.githubusercontent.com/vanderbilt-data-science/python-for-deep-learning-workshop/master/workshop-files/244666.txt',\n",
       " 'https://raw.githubusercontent.com/vanderbilt-data-science/python-for-deep-learning-workshop/master/workshop-files/696866.txt',\n",
       " 'https://raw.githubusercontent.com/vanderbilt-data-science/python-for-deep-learning-workshop/master/workshop-files/332305.txt',\n",
       " 'https://raw.githubusercontent.com/vanderbilt-data-science/python-for-deep-learning-workshop/master/workshop-files/930880.txt',\n",
       " 'https://raw.githubusercontent.com/vanderbilt-data-science/python-for-deep-learning-workshop/master/workshop-files/297116.txt',\n",
       " 'https://raw.githubusercontent.com/vanderbilt-data-science/python-for-deep-learning-workshop/master/workshop-files/542169.txt',\n",
       " 'https://raw.githubusercontent.com/vanderbilt-data-science/python-for-deep-learning-workshop/master/workshop-files/272307.txt']"
      ]
     },
     "execution_count": null,
     "metadata": {},
     "output_type": "execute_result"
    }
   ],
   "source": [
    "files_list = [551293, 373587, 597061, 434648, 532970,\n",
    "              520668, 209035, 830014, 671125, 893941,\n",
    "              479957, 541893, 836261, 244666, 696866,\n",
    "              332305, 930880, 297116, 542169, 272307]\n",
    "file_base = 'https://raw.githubusercontent.com/vanderbilt-data-science/python-for-deep-learning-workshop/master/workshop-files/'\n",
    "if colab:\n",
    "    filenames = [file_base + str(file) + '.txt' for file in files_list]\n",
    "filenames"
   ]
  },
  {
   "cell_type": "markdown",
   "metadata": {},
   "source": [
    "### Get file contents\n",
    "We're going to be using the requests package to read from a remote file (the repo on GitHub).  You can use the `requests.get(insert-url-path-here.txt)` function to get the contents of a remote url.  Let's use a list comprehension to implement this functionality.  We'll do this together!"
   ]
  },
  {
   "cell_type": "code",
   "execution_count": null,
   "metadata": {},
   "outputs": [],
   "source": [
    "#read file contents\n",
    "if colab:\n",
    "    file_contents = [requests.get(fname).text for fname in filenames]\n",
    "else:\n",
    "    for fname in filenames:\n",
    "        with open(fname, 'r') as f:\n",
    "            file_contents.append(fname.read())"
   ]
  },
  {
   "cell_type": "code",
   "execution_count": null,
   "metadata": {},
   "outputs": [
    {
     "name": "stdout",
     "output_type": "stream",
     "text": [
      "Length of file contents list: 20\n"
     ]
    },
    {
     "data": {
      "text/plain": [
       "'The rain and wind abruptly stopped, but the sky still had the gray swirls of storms in the distance.'"
      ]
     },
     "execution_count": null,
     "metadata": {},
     "output_type": "execute_result"
    }
   ],
   "source": [
    "print('Length of file contents list:', len(file_contents))\n",
    "file_contents[0][:100]"
   ]
  },
  {
   "cell_type": "markdown",
   "metadata": {},
   "source": [
    "### Read tabular data\n",
    "Here, we'll read the tabular data stored in the csv about the authors."
   ]
  },
  {
   "cell_type": "code",
   "execution_count": null,
   "metadata": {},
   "outputs": [
    {
     "data": {
      "text/html": [
       "<div>\n",
       "<style scoped>\n",
       "    .dataframe tbody tr th:only-of-type {\n",
       "        vertical-align: middle;\n",
       "    }\n",
       "\n",
       "    .dataframe tbody tr th {\n",
       "        vertical-align: top;\n",
       "    }\n",
       "\n",
       "    .dataframe thead th {\n",
       "        text-align: right;\n",
       "    }\n",
       "</style>\n",
       "<table border=\"1\" class=\"dataframe\">\n",
       "  <thead>\n",
       "    <tr style=\"text-align: right;\">\n",
       "      <th></th>\n",
       "      <th>last_name</th>\n",
       "      <th>first_name</th>\n",
       "      <th>age</th>\n",
       "      <th>years_of_journalism</th>\n",
       "      <th>college major</th>\n",
       "      <th>article_id</th>\n",
       "    </tr>\n",
       "  </thead>\n",
       "  <tbody>\n",
       "    <tr>\n",
       "      <th>0</th>\n",
       "      <td>west</td>\n",
       "      <td>enrique</td>\n",
       "      <td>56</td>\n",
       "      <td>12</td>\n",
       "      <td>humanities</td>\n",
       "      <td>551293</td>\n",
       "    </tr>\n",
       "    <tr>\n",
       "      <th>1</th>\n",
       "      <td>braun</td>\n",
       "      <td>damien</td>\n",
       "      <td>43</td>\n",
       "      <td>13</td>\n",
       "      <td>humanities</td>\n",
       "      <td>373587</td>\n",
       "    </tr>\n",
       "    <tr>\n",
       "      <th>2</th>\n",
       "      <td>osborn</td>\n",
       "      <td>ellie</td>\n",
       "      <td>22</td>\n",
       "      <td>2</td>\n",
       "      <td>engineering</td>\n",
       "      <td>597061</td>\n",
       "    </tr>\n",
       "    <tr>\n",
       "      <th>3</th>\n",
       "      <td>vega</td>\n",
       "      <td>cierra</td>\n",
       "      <td>67</td>\n",
       "      <td>34</td>\n",
       "      <td>science</td>\n",
       "      <td>434648</td>\n",
       "    </tr>\n",
       "    <tr>\n",
       "      <th>4</th>\n",
       "      <td>cantrell</td>\n",
       "      <td>alden</td>\n",
       "      <td>53</td>\n",
       "      <td>23</td>\n",
       "      <td>science</td>\n",
       "      <td>532970</td>\n",
       "    </tr>\n",
       "  </tbody>\n",
       "</table>\n",
       "</div>"
      ],
      "text/plain": [
       "  last_name first_name  age  years_of_journalism college major  article_id\n",
       "0      west    enrique   56                   12    humanities      551293\n",
       "1     braun     damien   43                   13    humanities      373587\n",
       "2    osborn      ellie   22                    2   engineering      597061\n",
       "3      vega     cierra   67                   34       science      434648\n",
       "4  cantrell      alden   53                   23       science      532970"
      ]
     },
     "execution_count": null,
     "metadata": {},
     "output_type": "execute_result"
    }
   ],
   "source": [
    "#concatenate file path\n",
    "author_path = file_base + 'author_data.csv'\n",
    "author_df = pd.read_csv(author_path)\n",
    "author_df.head()"
   ]
  },
  {
   "cell_type": "markdown",
   "metadata": {},
   "source": [
    "## Brief assessment of tabular data\n",
    "Generally, you want to take a look at your data and make sure that it looks right.  We'll look at a few things below:\n",
    "* How many rows and columns are in the data?\n",
    "* How many null values does the data have?  (and what should I do about them?)\n",
    "* Are all of the article IDs unique?\n",
    "* What are the unique college majors and how many are there?\n",
    "We'll investigate these below."
   ]
  },
  {
   "cell_type": "markdown",
   "metadata": {},
   "source": [
    "### How many rows and columns are there in the data?"
   ]
  },
  {
   "cell_type": "code",
   "execution_count": null,
   "metadata": {},
   "outputs": [
    {
     "data": {
      "text/plain": [
       "(20, 6)"
      ]
     },
     "execution_count": null,
     "metadata": {},
     "output_type": "execute_result"
    }
   ],
   "source": [
    "author_df.shape"
   ]
  },
  {
   "cell_type": "markdown",
   "metadata": {},
   "source": [
    "### How many null values does the data have?"
   ]
  },
  {
   "cell_type": "code",
   "execution_count": null,
   "metadata": {},
   "outputs": [
    {
     "name": "stdout",
     "output_type": "stream",
     "text": [
      "<class 'pandas.core.frame.DataFrame'>\n",
      "RangeIndex: 20 entries, 0 to 19\n",
      "Data columns (total 6 columns):\n",
      " #   Column               Non-Null Count  Dtype \n",
      "---  ------               --------------  ----- \n",
      " 0   last_name            20 non-null     object\n",
      " 1   first_name           20 non-null     object\n",
      " 2   age                  20 non-null     int64 \n",
      " 3   years_of_journalism  20 non-null     int64 \n",
      " 4   college major        20 non-null     object\n",
      " 5   article_id           20 non-null     int64 \n",
      "dtypes: int64(3), object(3)\n",
      "memory usage: 1.1+ KB\n"
     ]
    }
   ],
   "source": [
    "author_df.info()"
   ]
  },
  {
   "cell_type": "markdown",
   "metadata": {},
   "source": [
    "### Are all of the article IDs unique?"
   ]
  },
  {
   "cell_type": "code",
   "execution_count": null,
   "metadata": {},
   "outputs": [
    {
     "data": {
      "text/plain": [
       "0"
      ]
     },
     "execution_count": null,
     "metadata": {},
     "output_type": "execute_result"
    }
   ],
   "source": [
    "author_df['article_id'].duplicated().sum()"
   ]
  },
  {
   "cell_type": "markdown",
   "metadata": {},
   "source": [
    "### What are the unique college majors and how many are there?"
   ]
  },
  {
   "cell_type": "code",
   "execution_count": null,
   "metadata": {},
   "outputs": [
    {
     "data": {
      "image/png": "[encoded data removed]",
      "text/plain": [
       "<Figure size 432x288 with 1 Axes>"
      ]
     },
     "metadata": {
      "needs_background": "light"
     },
     "output_type": "display_data"
    }
   ],
   "source": [
    "author_df['college major'].unique()\n",
    "author_df['college major'].value_counts()\n",
    "author_df['college major'].value_counts().plot(kind='bar');"
   ]
  },
  {
   "cell_type": "markdown",
   "metadata": {},
   "source": [
    "## Returning to our original problem\n",
    "Now, we have the author information in a dataframe, a list of the full filenames, and a list of the corresponding text.  Consider the following scenario: we want to fine-tune a model (or directly use a model) using only \"experienced\" journalists with more than 5 years of experience.  How could I use these data structures to create a list of the texts corresponding ONLY to the journalists with more than 5 years of experience?\n",
    "### In-class breakout discussion\n",
    "In your breakout room document, identify a few ways that you could put together or use the dataframe, the list of filenames, and the list of corresponding text.  Don't write any code - just list the steps.  Remember that for all lists, you have the values of the lists and the indices.  Your filename list and your text list are collated (i.e., the index of the filename corresponds to the index of the text)."
   ]
  },
  {
   "cell_type": "markdown",
   "metadata": {},
   "source": [
    "<details><summary> <u> Click here for a potential solution.  Discuss with your group first!</u> </summary>\n",
    "    <pre>\n",
    "        <br>Potential Solution:<br>\n",
    "        #get all of the IDs for authors with more than 5 years of experience\n",
    "        exp_ids = author_df.query(\"years_of_journalism >5\")['article_id']  <br>\n",
    "        #turn it into a list (exp_list)\n",
    "        exp_list = exp_ids.tolist() <br>\n",
    "        #turn the file_names and file_contents into a dict\n",
    "        file_dict = dict(zip(files_list, file_contents)) <br>\n",
    "        #select the indices\n",
    "        res_text = [text for fnum, text in file_dict.items() if fnum in exp_list]\n",
    "        len(res_text)\n",
    "    </pre>\n",
    "   </details>"
   ]
  },
  {
   "cell_type": "markdown",
   "metadata": {},
   "source": [
    "### Creating dataframes from lists/dictionaries\n",
    "Maybe that wasn't the easiest method in the world.  There are many other ways to handle this, depending on the size of your data and your interests.  One solution could be to add a column in your dataframe which is the actual filename.  After you've done all of your selection, you can choose to load these files iteratively.  Alternately, if your text is a reasonable size, you could put all of it together in a single dataframe.  We'll try that here."
   ]
  },
  {
   "cell_type": "code",
   "execution_count": null,
   "metadata": {},
   "outputs": [
    {
     "data": {
      "text/html": [
       "<div>\n",
       "<style scoped>\n",
       "    .dataframe tbody tr th:only-of-type {\n",
       "        vertical-align: middle;\n",
       "    }\n",
       "\n",
       "    .dataframe tbody tr th {\n",
       "        vertical-align: top;\n",
       "    }\n",
       "\n",
       "    .dataframe thead th {\n",
       "        text-align: right;\n",
       "    }\n",
       "</style>\n",
       "<table border=\"1\" class=\"dataframe\">\n",
       "  <thead>\n",
       "    <tr style=\"text-align: right;\">\n",
       "      <th></th>\n",
       "      <th>filename</th>\n",
       "      <th>text</th>\n",
       "      <th>file_id</th>\n",
       "    </tr>\n",
       "  </thead>\n",
       "  <tbody>\n",
       "    <tr>\n",
       "      <th>0</th>\n",
       "      <td>551293.txt</td>\n",
       "      <td>The rain and wind abruptly stopped, but the sk...</td>\n",
       "      <td>551293</td>\n",
       "    </tr>\n",
       "    <tr>\n",
       "      <th>1</th>\n",
       "      <td>373587.txt</td>\n",
       "      <td>She patiently waited for his number to be call...</td>\n",
       "      <td>373587</td>\n",
       "    </tr>\n",
       "    <tr>\n",
       "      <th>2</th>\n",
       "      <td>597061.txt</td>\n",
       "      <td>The chair sat in the corner where it had been ...</td>\n",
       "      <td>597061</td>\n",
       "    </tr>\n",
       "    <tr>\n",
       "      <th>3</th>\n",
       "      <td>434648.txt</td>\n",
       "      <td>The computer wouldn't start. She banged on the...</td>\n",
       "      <td>434648</td>\n",
       "    </tr>\n",
       "    <tr>\n",
       "      <th>4</th>\n",
       "      <td>532970.txt</td>\n",
       "      <td>Do you really listen when you are talking with...</td>\n",
       "      <td>532970</td>\n",
       "    </tr>\n",
       "    <tr>\n",
       "      <th>5</th>\n",
       "      <td>520668.txt</td>\n",
       "      <td>Cake or pie? I can tell a lot about you by whi...</td>\n",
       "      <td>520668</td>\n",
       "    </tr>\n",
       "    <tr>\n",
       "      <th>6</th>\n",
       "      <td>209035.txt</td>\n",
       "      <td>It was a concerning development that he couldn...</td>\n",
       "      <td>209035</td>\n",
       "    </tr>\n",
       "    <tr>\n",
       "      <th>7</th>\n",
       "      <td>830014.txt</td>\n",
       "      <td>She was in a hurry. Not the standard hurry whe...</td>\n",
       "      <td>830014</td>\n",
       "    </tr>\n",
       "    <tr>\n",
       "      <th>8</th>\n",
       "      <td>671125.txt</td>\n",
       "      <td>All he could think about was how it would all ...</td>\n",
       "      <td>671125</td>\n",
       "    </tr>\n",
       "    <tr>\n",
       "      <th>9</th>\n",
       "      <td>893941.txt</td>\n",
       "      <td>The red glint of paint sparkled under the sun....</td>\n",
       "      <td>893941</td>\n",
       "    </tr>\n",
       "    <tr>\n",
       "      <th>10</th>\n",
       "      <td>479957.txt</td>\n",
       "      <td>It was a weird concept. Why would I really nee...</td>\n",
       "      <td>479957</td>\n",
       "    </tr>\n",
       "    <tr>\n",
       "      <th>11</th>\n",
       "      <td>541893.txt</td>\n",
       "      <td>Dave watched as the forest burned up on the hi...</td>\n",
       "      <td>541893</td>\n",
       "    </tr>\n",
       "    <tr>\n",
       "      <th>12</th>\n",
       "      <td>836261.txt</td>\n",
       "      <td>As she sat watching the world go by, something...</td>\n",
       "      <td>836261</td>\n",
       "    </tr>\n",
       "    <tr>\n",
       "      <th>13</th>\n",
       "      <td>244666.txt</td>\n",
       "      <td>\"Explain to me again why I shouldnt cheat?\" he...</td>\n",
       "      <td>244666</td>\n",
       "    </tr>\n",
       "    <tr>\n",
       "      <th>14</th>\n",
       "      <td>696866.txt</td>\n",
       "      <td>Sometimes it's the first moment of the day tha...</td>\n",
       "      <td>696866</td>\n",
       "    </tr>\n",
       "    <tr>\n",
       "      <th>15</th>\n",
       "      <td>332305.txt</td>\n",
       "      <td>Then came the night of the first falling star....</td>\n",
       "      <td>332305</td>\n",
       "    </tr>\n",
       "    <tr>\n",
       "      <th>16</th>\n",
       "      <td>930880.txt</td>\n",
       "      <td>The box sat on the desk next to the computer. ...</td>\n",
       "      <td>930880</td>\n",
       "    </tr>\n",
       "    <tr>\n",
       "      <th>17</th>\n",
       "      <td>297116.txt</td>\n",
       "      <td>What have you noticed today? I noticed that if...</td>\n",
       "      <td>297116</td>\n",
       "    </tr>\n",
       "    <tr>\n",
       "      <th>18</th>\n",
       "      <td>542169.txt</td>\n",
       "      <td>Balloons are pretty and come in different colo...</td>\n",
       "      <td>542169</td>\n",
       "    </tr>\n",
       "    <tr>\n",
       "      <th>19</th>\n",
       "      <td>272307.txt</td>\n",
       "      <td>Do you think you're living an ordinary life? Y...</td>\n",
       "      <td>272307</td>\n",
       "    </tr>\n",
       "  </tbody>\n",
       "</table>\n",
       "</div>"
      ],
      "text/plain": [
       "      filename                                               text  file_id\n",
       "0   551293.txt  The rain and wind abruptly stopped, but the sk...   551293\n",
       "1   373587.txt  She patiently waited for his number to be call...   373587\n",
       "2   597061.txt  The chair sat in the corner where it had been ...   597061\n",
       "3   434648.txt  The computer wouldn't start. She banged on the...   434648\n",
       "4   532970.txt  Do you really listen when you are talking with...   532970\n",
       "5   520668.txt  Cake or pie? I can tell a lot about you by whi...   520668\n",
       "6   209035.txt  It was a concerning development that he couldn...   209035\n",
       "7   830014.txt  She was in a hurry. Not the standard hurry whe...   830014\n",
       "8   671125.txt  All he could think about was how it would all ...   671125\n",
       "9   893941.txt  The red glint of paint sparkled under the sun....   893941\n",
       "10  479957.txt  It was a weird concept. Why would I really nee...   479957\n",
       "11  541893.txt  Dave watched as the forest burned up on the hi...   541893\n",
       "12  836261.txt  As she sat watching the world go by, something...   836261\n",
       "13  244666.txt  \"Explain to me again why I shouldnt cheat?\" he...   244666\n",
       "14  696866.txt  Sometimes it's the first moment of the day tha...   696866\n",
       "15  332305.txt  Then came the night of the first falling star....   332305\n",
       "16  930880.txt  The box sat on the desk next to the computer. ...   930880\n",
       "17  297116.txt  What have you noticed today? I noticed that if...   297116\n",
       "18  542169.txt  Balloons are pretty and come in different colo...   542169\n",
       "19  272307.txt  Do you think you're living an ordinary life? Y...   272307"
      ]
     },
     "execution_count": null,
     "metadata": {},
     "output_type": "execute_result"
    }
   ],
   "source": [
    "#first, create a dataframe from your filename list and your text\n",
    "tinfo_df = pd.DataFrame({'filename': [fname.split('/')[-1] for fname in filenames], 'text':file_contents, 'file_id':files_list})\n",
    "tinfo_df"
   ]
  },
  {
   "cell_type": "markdown",
   "metadata": {},
   "source": [
    "### Putting data together: joining data\n",
    "Now, we can join the data together.  There are many different types of joins, but essentially a join will look for one or more key, match the key, and then bind the columns of both dataframes together where the key matches.  We'll do an outer join here, which will place NAs where there are no matches to the key value in the other table."
   ]
  },
  {
   "cell_type": "code",
   "execution_count": null,
   "metadata": {},
   "outputs": [
    {
     "name": "stdout",
     "output_type": "stream",
     "text": [
      "Text info columns: ['filename', 'text', 'file_id']\n",
      "Author columns: ['last_name', 'first_name', 'age', 'years_of_journalism', 'college major', 'article_id']\n"
     ]
    }
   ],
   "source": [
    "print(\"Text info columns:\", tinfo_df.columns.tolist())\n",
    "print(\"Author columns:\", author_df.columns.tolist())"
   ]
  },
  {
   "cell_type": "markdown",
   "metadata": {},
   "source": [
    "**What are the names of the keys in each dataframe that we want to join the tables on?**"
   ]
  },
  {
   "cell_type": "code",
   "execution_count": null,
   "metadata": {},
   "outputs": [
    {
     "data": {
      "text/html": [
       "<div>\n",
       "<style scoped>\n",
       "    .dataframe tbody tr th:only-of-type {\n",
       "        vertical-align: middle;\n",
       "    }\n",
       "\n",
       "    .dataframe tbody tr th {\n",
       "        vertical-align: top;\n",
       "    }\n",
       "\n",
       "    .dataframe thead th {\n",
       "        text-align: right;\n",
       "    }\n",
       "</style>\n",
       "<table border=\"1\" class=\"dataframe\">\n",
       "  <thead>\n",
       "    <tr style=\"text-align: right;\">\n",
       "      <th></th>\n",
       "      <th>last_name</th>\n",
       "      <th>first_name</th>\n",
       "      <th>age</th>\n",
       "      <th>years_of_journalism</th>\n",
       "      <th>college major</th>\n",
       "      <th>article_id</th>\n",
       "      <th>filename</th>\n",
       "      <th>text</th>\n",
       "      <th>file_id</th>\n",
       "    </tr>\n",
       "  </thead>\n",
       "  <tbody>\n",
       "    <tr>\n",
       "      <th>0</th>\n",
       "      <td>west</td>\n",
       "      <td>enrique</td>\n",
       "      <td>56</td>\n",
       "      <td>12</td>\n",
       "      <td>humanities</td>\n",
       "      <td>551293</td>\n",
       "      <td>551293.txt</td>\n",
       "      <td>The rain and wind abruptly stopped, but the sk...</td>\n",
       "      <td>551293</td>\n",
       "    </tr>\n",
       "    <tr>\n",
       "      <th>1</th>\n",
       "      <td>braun</td>\n",
       "      <td>damien</td>\n",
       "      <td>43</td>\n",
       "      <td>13</td>\n",
       "      <td>humanities</td>\n",
       "      <td>373587</td>\n",
       "      <td>373587.txt</td>\n",
       "      <td>She patiently waited for his number to be call...</td>\n",
       "      <td>373587</td>\n",
       "    </tr>\n",
       "    <tr>\n",
       "      <th>2</th>\n",
       "      <td>osborn</td>\n",
       "      <td>ellie</td>\n",
       "      <td>22</td>\n",
       "      <td>2</td>\n",
       "      <td>engineering</td>\n",
       "      <td>597061</td>\n",
       "      <td>597061.txt</td>\n",
       "      <td>The chair sat in the corner where it had been ...</td>\n",
       "      <td>597061</td>\n",
       "    </tr>\n",
       "    <tr>\n",
       "      <th>3</th>\n",
       "      <td>vega</td>\n",
       "      <td>cierra</td>\n",
       "      <td>67</td>\n",
       "      <td>34</td>\n",
       "      <td>science</td>\n",
       "      <td>434648</td>\n",
       "      <td>434648.txt</td>\n",
       "      <td>The computer wouldn't start. She banged on the...</td>\n",
       "      <td>434648</td>\n",
       "    </tr>\n",
       "    <tr>\n",
       "      <th>4</th>\n",
       "      <td>cantrell</td>\n",
       "      <td>alden</td>\n",
       "      <td>53</td>\n",
       "      <td>23</td>\n",
       "      <td>science</td>\n",
       "      <td>532970</td>\n",
       "      <td>532970.txt</td>\n",
       "      <td>Do you really listen when you are talking with...</td>\n",
       "      <td>532970</td>\n",
       "    </tr>\n",
       "  </tbody>\n",
       "</table>\n",
       "</div>"
      ],
      "text/plain": [
       "  last_name first_name  age  years_of_journalism college major  article_id  \\\n",
       "0      west    enrique   56                   12    humanities      551293   \n",
       "1     braun     damien   43                   13    humanities      373587   \n",
       "2    osborn      ellie   22                    2   engineering      597061   \n",
       "3      vega     cierra   67                   34       science      434648   \n",
       "4  cantrell      alden   53                   23       science      532970   \n",
       "\n",
       "     filename                                               text  file_id  \n",
       "0  551293.txt  The rain and wind abruptly stopped, but the sk...   551293  \n",
       "1  373587.txt  She patiently waited for his number to be call...   373587  \n",
       "2  597061.txt  The chair sat in the corner where it had been ...   597061  \n",
       "3  434648.txt  The computer wouldn't start. She banged on the...   434648  \n",
       "4  532970.txt  Do you really listen when you are talking with...   532970  "
      ]
     },
     "metadata": {},
     "output_type": "display_data"
    },
    {
     "name": "stdout",
     "output_type": "stream",
     "text": [
      "(20, 9)\n"
     ]
    }
   ],
   "source": [
    "full_df = pd.merge(author_df, tinfo_df, left_on='article_id', right_on='file_id')\n",
    "display(full_df.head())\n",
    "print(full_df.shape)"
   ]
  },
  {
   "cell_type": "markdown",
   "metadata": {},
   "source": [
    "### Returning to the original question...\n",
    "How can we filter out \"inexperienced\" authors, and then select only the text?"
   ]
  },
  {
   "cell_type": "code",
   "execution_count": null,
   "metadata": {},
   "outputs": [
    {
     "data": {
      "text/plain": [
       "['The rain and wind abruptly stopped, but the sky still had the gray swirls of storms in the distance. Dave knew this feeling all too well. The calm before the storm. He only had a limited amount of time before all Hell broke loose, but he stopped to admire the calmness. Maybe it would be different this time, he thought, with the knowledge deep within that it wouldnt.',\n",
       " \"She patiently waited for his number to be called. She had no desire to be there, but her mom had insisted that she go. She's resisted at first, but over time she realized it was simply easier to appease her and go. Mom tended to be that way. She would keep insisting until you wore down and did what she wanted. So, here she sat, patiently waiting for her number to be called.\",\n",
       " \"The computer wouldn't start. She banged on the side and tried again. Nothing. She lifted it up and dropped it to the table. Still nothing. She banged her closed fist against the top. It was at this moment she saw the irony of trying to fix the machine with violence.\"]"
      ]
     },
     "execution_count": null,
     "metadata": {},
     "output_type": "execute_result"
    }
   ],
   "source": [
    "full_df.query(\"years_of_journalism > 5\")['text'].tolist()[:3]"
   ]
  },
  {
   "cell_type": "markdown",
   "metadata": {},
   "source": [
    "### In-class Breakout Room Exercises\n",
    "Try this yourself!  In your groups, try the following:\n",
    "1. Get the filenames corresponding to authors who are younger than 55.  How many people are there?\n",
    "2. How many people are older than 60 and have less than 10 years of experience?  \n",
    "* Bonus. Get the list of texts for people whose college major was 'humanities'.  How many are there?"
   ]
  },
  {
   "cell_type": "code",
   "execution_count": null,
   "metadata": {},
   "outputs": [
    {
     "data": {
      "text/plain": [
       "1     373587.txt\n",
       "2     597061.txt\n",
       "4     532970.txt\n",
       "5     520668.txt\n",
       "6     209035.txt\n",
       "7     830014.txt\n",
       "8     671125.txt\n",
       "9     893941.txt\n",
       "15    332305.txt\n",
       "19    272307.txt\n",
       "Name: filename, dtype: object"
      ]
     },
     "metadata": {},
     "output_type": "display_data"
    },
    {
     "name": "stdout",
     "output_type": "stream",
     "text": [
      "10\n"
     ]
    }
   ],
   "source": [
    "#1\n",
    "young_fnames = full_df.query(\"age < 55\")['filename']\n",
    "display(young_fnames)\n",
    "print(len(young_fnames))"
   ]
  },
  {
   "cell_type": "code",
   "execution_count": null,
   "metadata": {},
   "outputs": [
    {
     "data": {
      "text/html": [
       "<div>\n",
       "<style scoped>\n",
       "    .dataframe tbody tr th:only-of-type {\n",
       "        vertical-align: middle;\n",
       "    }\n",
       "\n",
       "    .dataframe tbody tr th {\n",
       "        vertical-align: top;\n",
       "    }\n",
       "\n",
       "    .dataframe thead th {\n",
       "        text-align: right;\n",
       "    }\n",
       "</style>\n",
       "<table border=\"1\" class=\"dataframe\">\n",
       "  <thead>\n",
       "    <tr style=\"text-align: right;\">\n",
       "      <th></th>\n",
       "      <th>last_name</th>\n",
       "      <th>first_name</th>\n",
       "      <th>age</th>\n",
       "      <th>years_of_journalism</th>\n",
       "      <th>college major</th>\n",
       "      <th>article_id</th>\n",
       "      <th>filename</th>\n",
       "      <th>text</th>\n",
       "      <th>file_id</th>\n",
       "    </tr>\n",
       "  </thead>\n",
       "  <tbody>\n",
       "    <tr>\n",
       "      <th>11</th>\n",
       "      <td>lynch</td>\n",
       "      <td>angela</td>\n",
       "      <td>78</td>\n",
       "      <td>7</td>\n",
       "      <td>humanities</td>\n",
       "      <td>541893</td>\n",
       "      <td>541893.txt</td>\n",
       "      <td>Dave watched as the forest burned up on the hi...</td>\n",
       "      <td>541893</td>\n",
       "    </tr>\n",
       "    <tr>\n",
       "      <th>17</th>\n",
       "      <td>mclaughlin</td>\n",
       "      <td>raina</td>\n",
       "      <td>85</td>\n",
       "      <td>6</td>\n",
       "      <td>humanities</td>\n",
       "      <td>297116</td>\n",
       "      <td>297116.txt</td>\n",
       "      <td>What have you noticed today? I noticed that if...</td>\n",
       "      <td>297116</td>\n",
       "    </tr>\n",
       "  </tbody>\n",
       "</table>\n",
       "</div>"
      ],
      "text/plain": [
       "     last_name first_name  age  years_of_journalism college major  article_id  \\\n",
       "11       lynch     angela   78                    7    humanities      541893   \n",
       "17  mclaughlin      raina   85                    6    humanities      297116   \n",
       "\n",
       "      filename                                               text  file_id  \n",
       "11  541893.txt  Dave watched as the forest burned up on the hi...   541893  \n",
       "17  297116.txt  What have you noticed today? I noticed that if...   297116  "
      ]
     },
     "metadata": {},
     "output_type": "display_data"
    },
    {
     "name": "stdout",
     "output_type": "stream",
     "text": [
      "2\n"
     ]
    }
   ],
   "source": [
    "#2\n",
    "inexp_df = full_df.query(\"age > 60 and years_of_journalism < 10\")\n",
    "display(inexp_df)\n",
    "print(len(inexp_df))"
   ]
  },
  {
   "cell_type": "code",
   "execution_count": null,
   "metadata": {},
   "outputs": [
    {
     "data": {
      "text/plain": [
       "0     The rain and wind abruptly stopped, but the sk...\n",
       "1     She patiently waited for his number to be call...\n",
       "5     Cake or pie? I can tell a lot about you by whi...\n",
       "6     It was a concerning development that he couldn...\n",
       "11    Dave watched as the forest burned up on the hi...\n",
       "17    What have you noticed today? I noticed that if...\n",
       "Name: text, dtype: object"
      ]
     },
     "metadata": {},
     "output_type": "display_data"
    },
    {
     "data": {
      "text/plain": [
       "0     The rain and wind abruptly stopped, but the sk...\n",
       "1     She patiently waited for his number to be call...\n",
       "5     Cake or pie? I can tell a lot about you by whi...\n",
       "6     It was a concerning development that he couldn...\n",
       "11    Dave watched as the forest burned up on the hi...\n",
       "17    What have you noticed today? I noticed that if...\n",
       "Name: text, dtype: object"
      ]
     },
     "execution_count": null,
     "metadata": {},
     "output_type": "execute_result"
    }
   ],
   "source": [
    "#3\n",
    "display(full_df.query(\"`college major`=='humanities'\")['text'])\n",
    "full_df.loc[full_df['college major']=='humanities', 'text']"
   ]
  },
  {
   "cell_type": "markdown",
   "metadata": {},
   "source": [
    "## Modeling Results\n",
    "Now that we have all of our data together and are able to extract the text of any desired subset, let's do some modeling!  Just kidding, we'll do that next week.  For now, we'll just simulate the results using the following randomized function."
   ]
  },
  {
   "cell_type": "code",
   "execution_count": null,
   "metadata": {},
   "outputs": [],
   "source": [
    "def sentiment_model(list_of_texts):\n",
    "    '''\n",
    "    Function sentiment_model: returns whether a text expresses positive or negative sentiment with confidence score\n",
    "        Inputs: a list of strings which correspond to individual texts\n",
    "        Returns: a list of dictionaries containing key:value pairs of 'label':'POSITIVE' or 'NEGATIVE' and 'score':float\n",
    "    '''\n",
    "    \n",
    "    text_res = []\n",
    "    \n",
    "    for text in list_of_texts:\n",
    "        \n",
    "        single_res = {}\n",
    "        \n",
    "        #decide whether it is positive or negative sentiment\n",
    "        if len(text) % 2 == 0:\n",
    "            single_res['label'] = 'POSITIVE'\n",
    "        else:\n",
    "            single_res['label'] = 'NEGATIVE'\n",
    "        \n",
    "        #decide on confidence\n",
    "        single_res['score'] = round(np.random.uniform(), 4)\n",
    "        \n",
    "        #append to list\n",
    "        text_res.append(single_res)\n",
    "  \n",
    "    #return the list\n",
    "    return text_res"
   ]
  },
  {
   "cell_type": "code",
   "execution_count": null,
   "metadata": {},
   "outputs": [
    {
     "data": {
      "text/plain": [
       "[{'label': 'POSITIVE', 'score': 0.0103},\n",
       " {'label': 'POSITIVE', 'score': 0.2547},\n",
       " {'label': 'NEGATIVE', 'score': 0.4567},\n",
       " {'label': 'POSITIVE', 'score': 0.7958},\n",
       " {'label': 'NEGATIVE', 'score': 0.4741},\n",
       " {'label': 'NEGATIVE', 'score': 0.0486},\n",
       " {'label': 'POSITIVE', 'score': 0.4984},\n",
       " {'label': 'NEGATIVE', 'score': 0.8179},\n",
       " {'label': 'POSITIVE', 'score': 0.2066},\n",
       " {'label': 'POSITIVE', 'score': 0.7544},\n",
       " {'label': 'POSITIVE', 'score': 0.0022},\n",
       " {'label': 'POSITIVE', 'score': 0.9707},\n",
       " {'label': 'POSITIVE', 'score': 0.3661},\n",
       " {'label': 'POSITIVE', 'score': 0.9482},\n",
       " {'label': 'NEGATIVE', 'score': 0.7987},\n",
       " {'label': 'NEGATIVE', 'score': 0.1664},\n",
       " {'label': 'NEGATIVE', 'score': 0.7806},\n",
       " {'label': 'POSITIVE', 'score': 0.1618},\n",
       " {'label': 'POSITIVE', 'score': 0.2951},\n",
       " {'label': 'POSITIVE', 'score': 0.7521}]"
      ]
     },
     "execution_count": null,
     "metadata": {},
     "output_type": "execute_result"
    }
   ],
   "source": [
    "#get modeling results\n",
    "sentiments = sentiment_model(full_df['text'].tolist())\n",
    "sentiments"
   ]
  },
  {
   "cell_type": "markdown",
   "metadata": {},
   "source": [
    "These seem like some pretty arbitrary choices for a workshop.  Are they?  Check out the HuggingFace documentation on sentiment analysis pipelines here: https://huggingface.co/transformers/quicktour.html#getting-started-on-a-task-with-a-pipeline and answer the following questions.  Make sure to add your answers to the breakout room document!\n",
    "### In-class Breakout Discussion\n",
    "* What is passed into the model?\n",
    "* What is returned by the model?\n",
    "* How does the example correspond to how one uses HuggingFace?\n",
    "\n",
    "## How do we combine these results with the original dataframe?"
   ]
  },
  {
   "cell_type": "code",
   "execution_count": null,
   "metadata": {},
   "outputs": [
    {
     "data": {
      "text/html": [
       "<div>\n",
       "<style scoped>\n",
       "    .dataframe tbody tr th:only-of-type {\n",
       "        vertical-align: middle;\n",
       "    }\n",
       "\n",
       "    .dataframe tbody tr th {\n",
       "        vertical-align: top;\n",
       "    }\n",
       "\n",
       "    .dataframe thead th {\n",
       "        text-align: right;\n",
       "    }\n",
       "</style>\n",
       "<table border=\"1\" class=\"dataframe\">\n",
       "  <thead>\n",
       "    <tr style=\"text-align: right;\">\n",
       "      <th></th>\n",
       "      <th>label</th>\n",
       "      <th>score</th>\n",
       "    </tr>\n",
       "  </thead>\n",
       "  <tbody>\n",
       "    <tr>\n",
       "      <th>0</th>\n",
       "      <td>POSITIVE</td>\n",
       "      <td>0.0103</td>\n",
       "    </tr>\n",
       "    <tr>\n",
       "      <th>1</th>\n",
       "      <td>POSITIVE</td>\n",
       "      <td>0.2547</td>\n",
       "    </tr>\n",
       "    <tr>\n",
       "      <th>2</th>\n",
       "      <td>NEGATIVE</td>\n",
       "      <td>0.4567</td>\n",
       "    </tr>\n",
       "    <tr>\n",
       "      <th>3</th>\n",
       "      <td>POSITIVE</td>\n",
       "      <td>0.7958</td>\n",
       "    </tr>\n",
       "    <tr>\n",
       "      <th>4</th>\n",
       "      <td>NEGATIVE</td>\n",
       "      <td>0.4741</td>\n",
       "    </tr>\n",
       "    <tr>\n",
       "      <th>5</th>\n",
       "      <td>NEGATIVE</td>\n",
       "      <td>0.0486</td>\n",
       "    </tr>\n",
       "    <tr>\n",
       "      <th>6</th>\n",
       "      <td>POSITIVE</td>\n",
       "      <td>0.4984</td>\n",
       "    </tr>\n",
       "    <tr>\n",
       "      <th>7</th>\n",
       "      <td>NEGATIVE</td>\n",
       "      <td>0.8179</td>\n",
       "    </tr>\n",
       "    <tr>\n",
       "      <th>8</th>\n",
       "      <td>POSITIVE</td>\n",
       "      <td>0.2066</td>\n",
       "    </tr>\n",
       "    <tr>\n",
       "      <th>9</th>\n",
       "      <td>POSITIVE</td>\n",
       "      <td>0.7544</td>\n",
       "    </tr>\n",
       "    <tr>\n",
       "      <th>10</th>\n",
       "      <td>POSITIVE</td>\n",
       "      <td>0.0022</td>\n",
       "    </tr>\n",
       "    <tr>\n",
       "      <th>11</th>\n",
       "      <td>POSITIVE</td>\n",
       "      <td>0.9707</td>\n",
       "    </tr>\n",
       "    <tr>\n",
       "      <th>12</th>\n",
       "      <td>POSITIVE</td>\n",
       "      <td>0.3661</td>\n",
       "    </tr>\n",
       "    <tr>\n",
       "      <th>13</th>\n",
       "      <td>POSITIVE</td>\n",
       "      <td>0.9482</td>\n",
       "    </tr>\n",
       "    <tr>\n",
       "      <th>14</th>\n",
       "      <td>NEGATIVE</td>\n",
       "      <td>0.7987</td>\n",
       "    </tr>\n",
       "    <tr>\n",
       "      <th>15</th>\n",
       "      <td>NEGATIVE</td>\n",
       "      <td>0.1664</td>\n",
       "    </tr>\n",
       "    <tr>\n",
       "      <th>16</th>\n",
       "      <td>NEGATIVE</td>\n",
       "      <td>0.7806</td>\n",
       "    </tr>\n",
       "    <tr>\n",
       "      <th>17</th>\n",
       "      <td>POSITIVE</td>\n",
       "      <td>0.1618</td>\n",
       "    </tr>\n",
       "    <tr>\n",
       "      <th>18</th>\n",
       "      <td>POSITIVE</td>\n",
       "      <td>0.2951</td>\n",
       "    </tr>\n",
       "    <tr>\n",
       "      <th>19</th>\n",
       "      <td>POSITIVE</td>\n",
       "      <td>0.7521</td>\n",
       "    </tr>\n",
       "  </tbody>\n",
       "</table>\n",
       "</div>"
      ],
      "text/plain": [
       "       label   score\n",
       "0   POSITIVE  0.0103\n",
       "1   POSITIVE  0.2547\n",
       "2   NEGATIVE  0.4567\n",
       "3   POSITIVE  0.7958\n",
       "4   NEGATIVE  0.4741\n",
       "5   NEGATIVE  0.0486\n",
       "6   POSITIVE  0.4984\n",
       "7   NEGATIVE  0.8179\n",
       "8   POSITIVE  0.2066\n",
       "9   POSITIVE  0.7544\n",
       "10  POSITIVE  0.0022\n",
       "11  POSITIVE  0.9707\n",
       "12  POSITIVE  0.3661\n",
       "13  POSITIVE  0.9482\n",
       "14  NEGATIVE  0.7987\n",
       "15  NEGATIVE  0.1664\n",
       "16  NEGATIVE  0.7806\n",
       "17  POSITIVE  0.1618\n",
       "18  POSITIVE  0.2951\n",
       "19  POSITIVE  0.7521"
      ]
     },
     "execution_count": null,
     "metadata": {},
     "output_type": "execute_result"
    }
   ],
   "source": [
    "#create dataframe from list of dictionaries\n",
    "sent_df = pd.DataFrame(sentiments)\n",
    "sent_df"
   ]
  },
  {
   "cell_type": "code",
   "execution_count": null,
   "metadata": {},
   "outputs": [
    {
     "data": {
      "text/html": [
       "<div>\n",
       "<style scoped>\n",
       "    .dataframe tbody tr th:only-of-type {\n",
       "        vertical-align: middle;\n",
       "    }\n",
       "\n",
       "    .dataframe tbody tr th {\n",
       "        vertical-align: top;\n",
       "    }\n",
       "\n",
       "    .dataframe thead th {\n",
       "        text-align: right;\n",
       "    }\n",
       "</style>\n",
       "<table border=\"1\" class=\"dataframe\">\n",
       "  <thead>\n",
       "    <tr style=\"text-align: right;\">\n",
       "      <th></th>\n",
       "      <th>last_name</th>\n",
       "      <th>first_name</th>\n",
       "      <th>age</th>\n",
       "      <th>years_of_journalism</th>\n",
       "      <th>college major</th>\n",
       "      <th>article_id</th>\n",
       "      <th>filename</th>\n",
       "      <th>text</th>\n",
       "      <th>file_id</th>\n",
       "      <th>label</th>\n",
       "      <th>score</th>\n",
       "    </tr>\n",
       "  </thead>\n",
       "  <tbody>\n",
       "    <tr>\n",
       "      <th>0</th>\n",
       "      <td>west</td>\n",
       "      <td>enrique</td>\n",
       "      <td>56</td>\n",
       "      <td>12</td>\n",
       "      <td>humanities</td>\n",
       "      <td>551293</td>\n",
       "      <td>551293.txt</td>\n",
       "      <td>The rain and wind abruptly stopped, but the sk...</td>\n",
       "      <td>551293</td>\n",
       "      <td>POSITIVE</td>\n",
       "      <td>0.0103</td>\n",
       "    </tr>\n",
       "    <tr>\n",
       "      <th>1</th>\n",
       "      <td>braun</td>\n",
       "      <td>damien</td>\n",
       "      <td>43</td>\n",
       "      <td>13</td>\n",
       "      <td>humanities</td>\n",
       "      <td>373587</td>\n",
       "      <td>373587.txt</td>\n",
       "      <td>She patiently waited for his number to be call...</td>\n",
       "      <td>373587</td>\n",
       "      <td>POSITIVE</td>\n",
       "      <td>0.2547</td>\n",
       "    </tr>\n",
       "    <tr>\n",
       "      <th>2</th>\n",
       "      <td>osborn</td>\n",
       "      <td>ellie</td>\n",
       "      <td>22</td>\n",
       "      <td>2</td>\n",
       "      <td>engineering</td>\n",
       "      <td>597061</td>\n",
       "      <td>597061.txt</td>\n",
       "      <td>The chair sat in the corner where it had been ...</td>\n",
       "      <td>597061</td>\n",
       "      <td>NEGATIVE</td>\n",
       "      <td>0.4567</td>\n",
       "    </tr>\n",
       "    <tr>\n",
       "      <th>3</th>\n",
       "      <td>vega</td>\n",
       "      <td>cierra</td>\n",
       "      <td>67</td>\n",
       "      <td>34</td>\n",
       "      <td>science</td>\n",
       "      <td>434648</td>\n",
       "      <td>434648.txt</td>\n",
       "      <td>The computer wouldn't start. She banged on the...</td>\n",
       "      <td>434648</td>\n",
       "      <td>POSITIVE</td>\n",
       "      <td>0.7958</td>\n",
       "    </tr>\n",
       "    <tr>\n",
       "      <th>4</th>\n",
       "      <td>cantrell</td>\n",
       "      <td>alden</td>\n",
       "      <td>53</td>\n",
       "      <td>23</td>\n",
       "      <td>science</td>\n",
       "      <td>532970</td>\n",
       "      <td>532970.txt</td>\n",
       "      <td>Do you really listen when you are talking with...</td>\n",
       "      <td>532970</td>\n",
       "      <td>NEGATIVE</td>\n",
       "      <td>0.4741</td>\n",
       "    </tr>\n",
       "    <tr>\n",
       "      <th>5</th>\n",
       "      <td>gentry</td>\n",
       "      <td>kierra</td>\n",
       "      <td>25</td>\n",
       "      <td>7</td>\n",
       "      <td>humanities</td>\n",
       "      <td>520668</td>\n",
       "      <td>520668.txt</td>\n",
       "      <td>Cake or pie? I can tell a lot about you by whi...</td>\n",
       "      <td>520668</td>\n",
       "      <td>NEGATIVE</td>\n",
       "      <td>0.0486</td>\n",
       "    </tr>\n",
       "    <tr>\n",
       "      <th>6</th>\n",
       "      <td>cox</td>\n",
       "      <td>pierre</td>\n",
       "      <td>24</td>\n",
       "      <td>4</td>\n",
       "      <td>humanities</td>\n",
       "      <td>209035</td>\n",
       "      <td>209035.txt</td>\n",
       "      <td>It was a concerning development that he couldn...</td>\n",
       "      <td>209035</td>\n",
       "      <td>POSITIVE</td>\n",
       "      <td>0.4984</td>\n",
       "    </tr>\n",
       "    <tr>\n",
       "      <th>7</th>\n",
       "      <td>crane</td>\n",
       "      <td>thomas</td>\n",
       "      <td>35</td>\n",
       "      <td>9</td>\n",
       "      <td>science</td>\n",
       "      <td>830014</td>\n",
       "      <td>830014.txt</td>\n",
       "      <td>She was in a hurry. Not the standard hurry whe...</td>\n",
       "      <td>830014</td>\n",
       "      <td>NEGATIVE</td>\n",
       "      <td>0.8179</td>\n",
       "    </tr>\n",
       "    <tr>\n",
       "      <th>8</th>\n",
       "      <td>hill</td>\n",
       "      <td>krystal</td>\n",
       "      <td>41</td>\n",
       "      <td>31</td>\n",
       "      <td>premed</td>\n",
       "      <td>671125</td>\n",
       "      <td>671125.txt</td>\n",
       "      <td>All he could think about was how it would all ...</td>\n",
       "      <td>671125</td>\n",
       "      <td>POSITIVE</td>\n",
       "      <td>0.2066</td>\n",
       "    </tr>\n",
       "    <tr>\n",
       "      <th>9</th>\n",
       "      <td>cuevas</td>\n",
       "      <td>kira</td>\n",
       "      <td>39</td>\n",
       "      <td>22</td>\n",
       "      <td>premed</td>\n",
       "      <td>893941</td>\n",
       "      <td>893941.txt</td>\n",
       "      <td>The red glint of paint sparkled under the sun....</td>\n",
       "      <td>893941</td>\n",
       "      <td>POSITIVE</td>\n",
       "      <td>0.7544</td>\n",
       "    </tr>\n",
       "    <tr>\n",
       "      <th>10</th>\n",
       "      <td>oliver</td>\n",
       "      <td>cortez</td>\n",
       "      <td>80</td>\n",
       "      <td>32</td>\n",
       "      <td>science</td>\n",
       "      <td>479957</td>\n",
       "      <td>479957.txt</td>\n",
       "      <td>It was a weird concept. Why would I really nee...</td>\n",
       "      <td>479957</td>\n",
       "      <td>POSITIVE</td>\n",
       "      <td>0.0022</td>\n",
       "    </tr>\n",
       "    <tr>\n",
       "      <th>11</th>\n",
       "      <td>lynch</td>\n",
       "      <td>angela</td>\n",
       "      <td>78</td>\n",
       "      <td>7</td>\n",
       "      <td>humanities</td>\n",
       "      <td>541893</td>\n",
       "      <td>541893.txt</td>\n",
       "      <td>Dave watched as the forest burned up on the hi...</td>\n",
       "      <td>541893</td>\n",
       "      <td>POSITIVE</td>\n",
       "      <td>0.9707</td>\n",
       "    </tr>\n",
       "    <tr>\n",
       "      <th>12</th>\n",
       "      <td>pugh</td>\n",
       "      <td>logan</td>\n",
       "      <td>69</td>\n",
       "      <td>33</td>\n",
       "      <td>engineering</td>\n",
       "      <td>836261</td>\n",
       "      <td>836261.txt</td>\n",
       "      <td>As she sat watching the world go by, something...</td>\n",
       "      <td>836261</td>\n",
       "      <td>POSITIVE</td>\n",
       "      <td>0.3661</td>\n",
       "    </tr>\n",
       "    <tr>\n",
       "      <th>13</th>\n",
       "      <td>jones</td>\n",
       "      <td>sullivan</td>\n",
       "      <td>67</td>\n",
       "      <td>16</td>\n",
       "      <td>premed</td>\n",
       "      <td>244666</td>\n",
       "      <td>244666.txt</td>\n",
       "      <td>\"Explain to me again why I shouldnt cheat?\" he...</td>\n",
       "      <td>244666</td>\n",
       "      <td>POSITIVE</td>\n",
       "      <td>0.9482</td>\n",
       "    </tr>\n",
       "    <tr>\n",
       "      <th>14</th>\n",
       "      <td>ford</td>\n",
       "      <td>elaine</td>\n",
       "      <td>60</td>\n",
       "      <td>5</td>\n",
       "      <td>prelaw</td>\n",
       "      <td>696866</td>\n",
       "      <td>696866.txt</td>\n",
       "      <td>Sometimes it's the first moment of the day tha...</td>\n",
       "      <td>696866</td>\n",
       "      <td>NEGATIVE</td>\n",
       "      <td>0.7987</td>\n",
       "    </tr>\n",
       "    <tr>\n",
       "      <th>15</th>\n",
       "      <td>harding</td>\n",
       "      <td>litzy</td>\n",
       "      <td>22</td>\n",
       "      <td>16</td>\n",
       "      <td>prelaw</td>\n",
       "      <td>332305</td>\n",
       "      <td>332305.txt</td>\n",
       "      <td>Then came the night of the first falling star....</td>\n",
       "      <td>332305</td>\n",
       "      <td>NEGATIVE</td>\n",
       "      <td>0.1664</td>\n",
       "    </tr>\n",
       "    <tr>\n",
       "      <th>16</th>\n",
       "      <td>curtis</td>\n",
       "      <td>cortez</td>\n",
       "      <td>62</td>\n",
       "      <td>27</td>\n",
       "      <td>engineering</td>\n",
       "      <td>930880</td>\n",
       "      <td>930880.txt</td>\n",
       "      <td>The box sat on the desk next to the computer. ...</td>\n",
       "      <td>930880</td>\n",
       "      <td>NEGATIVE</td>\n",
       "      <td>0.7806</td>\n",
       "    </tr>\n",
       "    <tr>\n",
       "      <th>17</th>\n",
       "      <td>mclaughlin</td>\n",
       "      <td>raina</td>\n",
       "      <td>85</td>\n",
       "      <td>6</td>\n",
       "      <td>humanities</td>\n",
       "      <td>297116</td>\n",
       "      <td>297116.txt</td>\n",
       "      <td>What have you noticed today? I noticed that if...</td>\n",
       "      <td>297116</td>\n",
       "      <td>POSITIVE</td>\n",
       "      <td>0.1618</td>\n",
       "    </tr>\n",
       "    <tr>\n",
       "      <th>18</th>\n",
       "      <td>rojas</td>\n",
       "      <td>kaiya</td>\n",
       "      <td>56</td>\n",
       "      <td>18</td>\n",
       "      <td>science</td>\n",
       "      <td>542169</td>\n",
       "      <td>542169.txt</td>\n",
       "      <td>Balloons are pretty and come in different colo...</td>\n",
       "      <td>542169</td>\n",
       "      <td>POSITIVE</td>\n",
       "      <td>0.2951</td>\n",
       "    </tr>\n",
       "    <tr>\n",
       "      <th>19</th>\n",
       "      <td>mccarty</td>\n",
       "      <td>maia</td>\n",
       "      <td>52</td>\n",
       "      <td>33</td>\n",
       "      <td>premed</td>\n",
       "      <td>272307</td>\n",
       "      <td>272307.txt</td>\n",
       "      <td>Do you think you're living an ordinary life? Y...</td>\n",
       "      <td>272307</td>\n",
       "      <td>POSITIVE</td>\n",
       "      <td>0.7521</td>\n",
       "    </tr>\n",
       "  </tbody>\n",
       "</table>\n",
       "</div>"
      ],
      "text/plain": [
       "     last_name first_name  age  years_of_journalism college major  article_id  \\\n",
       "0         west    enrique   56                   12    humanities      551293   \n",
       "1        braun     damien   43                   13    humanities      373587   \n",
       "2       osborn      ellie   22                    2   engineering      597061   \n",
       "3         vega     cierra   67                   34       science      434648   \n",
       "4     cantrell      alden   53                   23       science      532970   \n",
       "5       gentry     kierra   25                    7    humanities      520668   \n",
       "6          cox     pierre   24                    4    humanities      209035   \n",
       "7        crane     thomas   35                    9       science      830014   \n",
       "8         hill    krystal   41                   31        premed      671125   \n",
       "9       cuevas       kira   39                   22        premed      893941   \n",
       "10      oliver     cortez   80                   32       science      479957   \n",
       "11       lynch     angela   78                    7    humanities      541893   \n",
       "12        pugh      logan   69                   33   engineering      836261   \n",
       "13       jones   sullivan   67                   16        premed      244666   \n",
       "14        ford     elaine   60                    5        prelaw      696866   \n",
       "15     harding      litzy   22                   16        prelaw      332305   \n",
       "16      curtis     cortez   62                   27   engineering      930880   \n",
       "17  mclaughlin      raina   85                    6    humanities      297116   \n",
       "18       rojas      kaiya   56                   18       science      542169   \n",
       "19     mccarty       maia   52                   33        premed      272307   \n",
       "\n",
       "      filename                                               text  file_id  \\\n",
       "0   551293.txt  The rain and wind abruptly stopped, but the sk...   551293   \n",
       "1   373587.txt  She patiently waited for his number to be call...   373587   \n",
       "2   597061.txt  The chair sat in the corner where it had been ...   597061   \n",
       "3   434648.txt  The computer wouldn't start. She banged on the...   434648   \n",
       "4   532970.txt  Do you really listen when you are talking with...   532970   \n",
       "5   520668.txt  Cake or pie? I can tell a lot about you by whi...   520668   \n",
       "6   209035.txt  It was a concerning development that he couldn...   209035   \n",
       "7   830014.txt  She was in a hurry. Not the standard hurry whe...   830014   \n",
       "8   671125.txt  All he could think about was how it would all ...   671125   \n",
       "9   893941.txt  The red glint of paint sparkled under the sun....   893941   \n",
       "10  479957.txt  It was a weird concept. Why would I really nee...   479957   \n",
       "11  541893.txt  Dave watched as the forest burned up on the hi...   541893   \n",
       "12  836261.txt  As she sat watching the world go by, something...   836261   \n",
       "13  244666.txt  \"Explain to me again why I shouldnt cheat?\" he...   244666   \n",
       "14  696866.txt  Sometimes it's the first moment of the day tha...   696866   \n",
       "15  332305.txt  Then came the night of the first falling star....   332305   \n",
       "16  930880.txt  The box sat on the desk next to the computer. ...   930880   \n",
       "17  297116.txt  What have you noticed today? I noticed that if...   297116   \n",
       "18  542169.txt  Balloons are pretty and come in different colo...   542169   \n",
       "19  272307.txt  Do you think you're living an ordinary life? Y...   272307   \n",
       "\n",
       "       label   score  \n",
       "0   POSITIVE  0.0103  \n",
       "1   POSITIVE  0.2547  \n",
       "2   NEGATIVE  0.4567  \n",
       "3   POSITIVE  0.7958  \n",
       "4   NEGATIVE  0.4741  \n",
       "5   NEGATIVE  0.0486  \n",
       "6   POSITIVE  0.4984  \n",
       "7   NEGATIVE  0.8179  \n",
       "8   POSITIVE  0.2066  \n",
       "9   POSITIVE  0.7544  \n",
       "10  POSITIVE  0.0022  \n",
       "11  POSITIVE  0.9707  \n",
       "12  POSITIVE  0.3661  \n",
       "13  POSITIVE  0.9482  \n",
       "14  NEGATIVE  0.7987  \n",
       "15  NEGATIVE  0.1664  \n",
       "16  NEGATIVE  0.7806  \n",
       "17  POSITIVE  0.1618  \n",
       "18  POSITIVE  0.2951  \n",
       "19  POSITIVE  0.7521  "
      ]
     },
     "execution_count": null,
     "metadata": {},
     "output_type": "execute_result"
    }
   ],
   "source": [
    "#concatenate dataframes\n",
    "final_df = pd.concat([full_df, sent_df], axis=1)\n",
    "final_df"
   ]
  },
  {
   "cell_type": "markdown",
   "metadata": {},
   "source": [
    "## Now, let's actually answer our question!\n",
    "Can we see a difference between the sentiments of articles based on college major?"
   ]
  },
  {
   "cell_type": "code",
   "execution_count": null,
   "metadata": {},
   "outputs": [
    {
     "data": {
      "text/plain": [
       "<AxesSubplot:xlabel='label'>"
      ]
     },
     "execution_count": null,
     "metadata": {},
     "output_type": "execute_result"
    },
    {
     "data": {
      "image/png": "[encoded data removed]",
      "text/plain": [
       "<Figure size 432x288 with 1 Axes>"
      ]
     },
     "metadata": {
      "needs_background": "light"
     },
     "output_type": "display_data"
    }
   ],
   "source": [
    "final_df.groupby(['college major'])['label'].value_counts().unstack().transpose().plot(kind='bar')"
   ]
  },
  {
   "cell_type": "markdown",
   "metadata": {},
   "source": [
    "## What if we wanted to compute an aggregate score?\n",
    "Looking at negative and positive is a bit hard.  Maybe we could just calculate a score reflecting whether overall, the group tends to have positive reviews.  We can calculate this as `no_positive_reviews - no_negative_reviews`."
   ]
  },
  {
   "cell_type": "code",
   "execution_count": null,
   "metadata": {},
   "outputs": [
    {
     "data": {
      "text/html": [
       "<div>\n",
       "<style scoped>\n",
       "    .dataframe tbody tr th:only-of-type {\n",
       "        vertical-align: middle;\n",
       "    }\n",
       "\n",
       "    .dataframe tbody tr th {\n",
       "        vertical-align: top;\n",
       "    }\n",
       "\n",
       "    .dataframe thead th {\n",
       "        text-align: right;\n",
       "    }\n",
       "</style>\n",
       "<table border=\"1\" class=\"dataframe\">\n",
       "  <thead>\n",
       "    <tr style=\"text-align: right;\">\n",
       "      <th>label</th>\n",
       "      <th>NEGATIVE</th>\n",
       "      <th>POSITIVE</th>\n",
       "    </tr>\n",
       "    <tr>\n",
       "      <th>college major</th>\n",
       "      <th></th>\n",
       "      <th></th>\n",
       "    </tr>\n",
       "  </thead>\n",
       "  <tbody>\n",
       "    <tr>\n",
       "      <th>engineering</th>\n",
       "      <td>2.0</td>\n",
       "      <td>1.0</td>\n",
       "    </tr>\n",
       "    <tr>\n",
       "      <th>humanities</th>\n",
       "      <td>1.0</td>\n",
       "      <td>5.0</td>\n",
       "    </tr>\n",
       "    <tr>\n",
       "      <th>prelaw</th>\n",
       "      <td>2.0</td>\n",
       "      <td>0.0</td>\n",
       "    </tr>\n",
       "    <tr>\n",
       "      <th>premed</th>\n",
       "      <td>0.0</td>\n",
       "      <td>4.0</td>\n",
       "    </tr>\n",
       "    <tr>\n",
       "      <th>science</th>\n",
       "      <td>2.0</td>\n",
       "      <td>3.0</td>\n",
       "    </tr>\n",
       "  </tbody>\n",
       "</table>\n",
       "</div>"
      ],
      "text/plain": [
       "label          NEGATIVE  POSITIVE\n",
       "college major                    \n",
       "engineering         2.0       1.0\n",
       "humanities          1.0       5.0\n",
       "prelaw              2.0       0.0\n",
       "premed              0.0       4.0\n",
       "science             2.0       3.0"
      ]
     },
     "execution_count": null,
     "metadata": {},
     "output_type": "execute_result"
    }
   ],
   "source": [
    "negpos_df = final_df.groupby(['college major'])['label'].value_counts().unstack().fillna(0)\n",
    "negpos_df"
   ]
  },
  {
   "cell_type": "code",
   "execution_count": null,
   "metadata": {},
   "outputs": [
    {
     "data": {
      "image/png": "[encoded data removed]",
      "text/plain": [
       "<Figure size 432x288 with 1 Axes>"
      ]
     },
     "metadata": {
      "needs_background": "light"
     },
     "output_type": "display_data"
    }
   ],
   "source": [
    "negpos_df['overall_positivity'] = negpos_df['POSITIVE'] - negpos_df['NEGATIVE']\n",
    "negpos_df['overall_positivity'].transpose().plot(kind='bar');"
   ]
  },
  {
   "cell_type": "markdown",
   "metadata": {},
   "source": [
    "# What we've covered\n",
    "We've covered a lot of ground today!  We've discussed several things:\n",
    "* Reading in text files via Google Colab and locally via the glob package\n",
    "* Using lists, list comprehensions, and dictionaries to faciliate coding efforts\n",
    "* Using primitive data structures to create pandas dataframes\n",
    "* Appreciating the capabilites of pandas data structures for manipulation of data into desired formats\n",
    "* Grammar of data manipulation\n",
    "  - Select (using specific columns): `[]`\n",
    "  - Filter (removing some parts of the data while keeping others): `.query()`, `.loc()`, `.iloc()`\n",
    "  - Groupby (doing operations based on a group)\n",
    "  - Mutate (adding new columns onto the dataframe): `df['new_col']=values`\n",
    "* Example of HuggingFace sentiment-analysis model inference using demo function\n",
    "* Converting outputs to dataframes\n",
    "* Joining (`merge`) dataframes based on a key\n",
    "* Concatenating dataframes along an axis"
   ]
  },
  {
   "cell_type": "markdown",
   "metadata": {},
   "source": [
    "# Additional Exercises\n",
    "1.  Outline the advantages and disadvantages of using lists, dictionaries, and pandas dataframes for manipulating data.\n",
    "2.  Write your own implementation of selecting the text for inexperienced authors using the author dataframe, lists of text, and the filenames/ids.\n",
    "3.  We made one big dataframe with the author information alongside the text.  What if you didn't add the text as a column and only used the filename column?  How could you use this in a for loop or list comprehension to read your selected data into a list?  This is applicable for image analysis.\n",
    "4.  Repeat these exercises using the `.loc[]` method for filtering rather than `.query()`.\n",
    "5.  The model was very confident (the `score` column) for some predictions and less confident on others.  Suppose we want to identify all of the rows where the score is between 0.4 and 0.6 and change the label in `label` to `NEUTRAL`. Write some code that will implement this.  `.loc` will be your friend here."
   ]
  }
 ],
 "metadata": {
  "kernelspec": {
   "display_name": "Python 3",
   "language": "python",
   "name": "python3"
  }
 },
 "nbformat": 4,
 "nbformat_minor": 4
}

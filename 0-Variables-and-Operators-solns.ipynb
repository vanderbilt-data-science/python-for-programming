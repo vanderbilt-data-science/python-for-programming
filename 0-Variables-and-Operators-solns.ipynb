{
 "cells": [
  {
   "cell_type": "markdown",
   "metadata": {},
   "source": [
    "# Python Variables and Operators\n",
    "> Getting a Sense of Python and Tools\n",
    "\n",
    "## References \n",
    "* This Tutorial loosely based on: _A Whirlwind Tour of Python by Jake VanderPlas (O’Reilly)_. Copyright 2016 O’Reilly Media, Inc., 978-1-491-96465-1.  This book is freely available online at: https://github.com/jakevdp/WhirlwindTourOfPython\n",
    "* To learn more about what's available in Python, take a look at the standard library documentation (https://docs.python.org/3/library/index.html )"
   ]
  },
  {
   "cell_type": "markdown",
   "metadata": {},
   "source": [
    "# What is a Jupyter Notebook?\n",
    "* Why are they useful, and how do they differ from regular Python scripts?\n",
    "* What is this user interface I'm looking at?\n",
    "\n",
    "# Where is Python?\n",
    "* How is this working?"
   ]
  },
  {
   "cell_type": "markdown",
   "metadata": {},
   "source": [
    "# Python kernel as a calculator"
   ]
  },
  {
   "cell_type": "code",
   "execution_count": null,
   "metadata": {},
   "outputs": [
    {
     "data": {
      "text/plain": [
       "2"
      ]
     },
     "execution_count": null,
     "metadata": {},
     "output_type": "execute_result"
    }
   ],
   "source": [
    "# We can do some calculations and get the answers!\n",
    "1 + 1"
   ]
  },
  {
   "cell_type": "markdown",
   "metadata": {},
   "source": [
    "# Variables\n",
    "## Moving to algebra"
   ]
  },
  {
   "cell_type": "markdown",
   "metadata": {},
   "source": [
    "In this section, we will learn about variables, which are named representations of \"objects\".  Everything in Python is an object."
   ]
  },
  {
   "cell_type": "code",
   "execution_count": null,
   "metadata": {},
   "outputs": [
    {
     "data": {
      "text/plain": [
       "4"
      ]
     },
     "execution_count": null,
     "metadata": {},
     "output_type": "execute_result"
    }
   ],
   "source": [
    "# Let's create an object and assign it a value!\n",
    "# \"The variable var represents the value 4\"\n",
    "var = 4\n",
    "var"
   ]
  },
  {
   "cell_type": "markdown",
   "metadata": {},
   "source": [
    "Checking this, we can use the ``print()`` function, give it the name of the variable, and Python will return it for us to see.  You can also see from above that the last output out a cell is printed if it is not stored."
   ]
  },
  {
   "cell_type": "code",
   "execution_count": null,
   "metadata": {},
   "outputs": [
    {
     "name": "stdout",
     "output_type": "stream",
     "text": [
      "4\n"
     ]
    }
   ],
   "source": [
    "print(var)"
   ]
  },
  {
   "cell_type": "markdown",
   "metadata": {},
   "source": [
    "To test this out, you can change the '4' in the first piece of code to something else, run it, and then when you run the second block, you'll see that the variable has been updated."
   ]
  },
  {
   "cell_type": "markdown",
   "metadata": {},
   "source": [
    "# Variable Types\n",
    "There are several variable types that are built into Python, which are the basic building blocks of the language.  This means that you don't have to do much to use them right out of the box.  We'll look to see what these types are and develop intuition around what it means to be \"built-in\".\n",
    "\n",
    "Let's take a quick look at the Python documentation to see if we can get a sense of some built-in types: https://docs.python.org/3/library/index.html"
   ]
  },
  {
   "cell_type": "code",
   "execution_count": null,
   "metadata": {},
   "outputs": [],
   "source": [
    "# integers\n",
    "day_of_week = 6"
   ]
  },
  {
   "cell_type": "code",
   "execution_count": null,
   "metadata": {},
   "outputs": [],
   "source": [
    "# strings\n",
    "day_of_week = 'saturday'"
   ]
  },
  {
   "cell_type": "code",
   "execution_count": null,
   "metadata": {},
   "outputs": [],
   "source": [
    "# floating-point\n",
    "day_of_week = 6.78"
   ]
  },
  {
   "cell_type": "markdown",
   "metadata": {},
   "source": [
    "There are a few ways you can go about the type of an object, the first of which that we'll look at is the ``type()`` **function**.  Functions are basically processors - they take some piece of information in (optionally), and they return some information (optionally).\n",
    "\n",
    "Let's check out the types."
   ]
  },
  {
   "cell_type": "code",
   "execution_count": null,
   "metadata": {},
   "outputs": [
    {
     "data": {
      "text/plain": [
       "float"
      ]
     },
     "execution_count": null,
     "metadata": {},
     "output_type": "execute_result"
    }
   ],
   "source": [
    "type(day_of_week)"
   ]
  },
  {
   "cell_type": "markdown",
   "metadata": {},
   "source": [
    "# Arithmetic, Comparison, and Boolean Operators"
   ]
  },
  {
   "cell_type": "markdown",
   "metadata": {},
   "source": [
    "In this section, we'll learn how to use operators to perform actions on and with the variables we learned to create in the previous section.  This is how we can use the basic foundational parts of the language to start doing useful things.\n",
    "\n",
    "Let's take a quick look at the Python documentation to see if we can get a sense of some built-in types: https://docs.python.org/3/library/index.html"
   ]
  },
  {
   "cell_type": "markdown",
   "metadata": {},
   "source": [
    "## Arithmetic Operators"
   ]
  },
  {
   "cell_type": "markdown",
   "metadata": {},
   "source": [
    "The first type of operator we'll look at are the most basic of arithmetic operators ``+``,``-``,``*``, and ``/``.  We saw this with the calculators, but now we'll integrate in the use of variables to perform operations."
   ]
  },
  {
   "cell_type": "code",
   "execution_count": null,
   "metadata": {},
   "outputs": [],
   "source": [
    "# create a variable midterm_1 and set it to be 97\n",
    "midterm_1 = 97\n",
    "\n",
    "# create a variable midterm_2 and set it to be 98\n",
    "midterm_2 = 98"
   ]
  },
  {
   "cell_type": "code",
   "execution_count": null,
   "metadata": {},
   "outputs": [
    {
     "name": "stdout",
     "output_type": "stream",
     "text": [
      "195\n",
      "-1\n",
      "9506\n",
      "0.9897959183673469\n"
     ]
    },
    {
     "data": {
      "text/plain": [
       "97.5"
      ]
     },
     "execution_count": null,
     "metadata": {},
     "output_type": "execute_result"
    }
   ],
   "source": [
    "# add midterms together\n",
    "print(97 + 98)\n",
    "\n",
    "# subtract midterms\n",
    "print(97 - 98)\n",
    "\n",
    "# multiply midterms\n",
    "print(97 * 98)\n",
    "\n",
    "# divide midterms\n",
    "print(97/98)\n",
    "\n",
    "# average midterms\n",
    "(97+98)/2"
   ]
  },
  {
   "cell_type": "markdown",
   "metadata": {},
   "source": [
    "You will also sometimes see some operator overloading based on the underlying data type, but you will need to understand the behavior of these operators.  For example, let's look at strings."
   ]
  },
  {
   "cell_type": "code",
   "execution_count": null,
   "metadata": {},
   "outputs": [
    {
     "name": "stdout",
     "output_type": "stream",
     "text": [
      "ninety-sevenninety-eight\n",
      "Can't multiply two strings\n",
      "ninety-sevenninety-sevenninety-seven\n"
     ]
    }
   ],
   "source": [
    "# new strings\n",
    "midterm1_str = 'ninety-seven'\n",
    "midterm2_str = 'ninety-eight'\n",
    "\n",
    "# add\n",
    "print(midterm1_str + midterm2_str)\n",
    "\n",
    "# multiply midterms\n",
    "try:\n",
    "    midterm1_str * midterm2_str\n",
    "except:\n",
    "    print(\"Can't multiply two strings\")\n",
    "\n",
    "# \"multiply\" string and integer\n",
    "print(midterm1_str * 3)"
   ]
  },
  {
   "cell_type": "markdown",
   "metadata": {},
   "source": [
    "### Try it yourself!\n",
    "Take 5 minutes alone or in groups and use the documentation (https://docs.python.org/3/library/index.html) to locate the symbols required to perform the following operations.  The desired operations are written as comments, and use the blank space below to fill in the desired functionality."
   ]
  },
  {
   "cell_type": "code",
   "execution_count": null,
   "metadata": {},
   "outputs": [
    {
     "data": {
      "text/plain": [
       "1"
      ]
     },
     "execution_count": null,
     "metadata": {},
     "output_type": "execute_result"
    }
   ],
   "source": [
    "# What is the floored quotient (i.e., integer division) of midterm_2 by midterm_1?\n",
    "midterm_2 // midterm_1"
   ]
  },
  {
   "cell_type": "code",
   "execution_count": null,
   "metadata": {},
   "outputs": [
    {
     "data": {
      "text/plain": [
       "1"
      ]
     },
     "execution_count": null,
     "metadata": {},
     "output_type": "execute_result"
    }
   ],
   "source": [
    "# What is the remainder of midterm_2 divided by midterm_1? (modulo operation)\n",
    "midterm_2 % midterm_1"
   ]
  },
  {
   "cell_type": "code",
   "execution_count": null,
   "metadata": {},
   "outputs": [
    {
     "data": {
      "text/plain": [
       "9409"
      ]
     },
     "execution_count": null,
     "metadata": {},
     "output_type": "execute_result"
    }
   ],
   "source": [
    "# What is midterm_1 raised to the power of 2?\n",
    "midterm_1 ** 2"
   ]
  },
  {
   "cell_type": "markdown",
   "metadata": {},
   "source": [
    "**Bonus:** What is the number of bits required to represent midterm_1?"
   ]
  },
  {
   "cell_type": "code",
   "execution_count": null,
   "metadata": {},
   "outputs": [
    {
     "data": {
      "text/plain": [
       "7"
      ]
     },
     "execution_count": null,
     "metadata": {},
     "output_type": "execute_result"
    }
   ],
   "source": [
    "midterm_1.bit_length()"
   ]
  },
  {
   "cell_type": "markdown",
   "metadata": {},
   "source": [
    "## Comparison Operators"
   ]
  },
  {
   "cell_type": "markdown",
   "metadata": {},
   "source": [
    "Another type of operation which can be very useful is comparison of different values. In Python, there are 6 comparison operators that all return either ``True`` or ``False``. \n",
    "\n",
    "Let's check out the documentation to see how we can compare different values: https://docs.python.org/3/library/index.html"
   ]
  },
  {
   "cell_type": "code",
   "execution_count": null,
   "metadata": {},
   "outputs": [
    {
     "data": {
      "text/plain": [
       "False"
      ]
     },
     "execution_count": null,
     "metadata": {},
     "output_type": "execute_result"
    }
   ],
   "source": [
    "# Is midterm_1 strictly more or less than midterm_2?\n",
    "midterm_1 > midterm_2"
   ]
  },
  {
   "cell_type": "code",
   "execution_count": null,
   "metadata": {},
   "outputs": [
    {
     "data": {
      "text/plain": [
       "True"
      ]
     },
     "execution_count": null,
     "metadata": {},
     "output_type": "execute_result"
    }
   ],
   "source": [
    "# Is midterm 1 less than or equal to midterm_2?\n",
    "midterm_1 <= midterm_2"
   ]
  },
  {
   "cell_type": "code",
   "execution_count": null,
   "metadata": {},
   "outputs": [
    {
     "name": "stdout",
     "output_type": "stream",
     "text": [
      "False\n"
     ]
    },
    {
     "data": {
      "text/plain": [
       "True"
      ]
     },
     "execution_count": null,
     "metadata": {},
     "output_type": "execute_result"
    }
   ],
   "source": [
    "# Is midterm_1 equal to midterm_2?\n",
    "print(midterm_1 == midterm_2)\n",
    "\n",
    "# Are midterm_1 and midterm_2 unequal?\n",
    "midterm_1 != midterm_2"
   ]
  },
  {
   "cell_type": "markdown",
   "metadata": {},
   "source": [
    "### Boolean Operators"
   ]
  },
  {
   "cell_type": "markdown",
   "metadata": {},
   "source": [
    "The final type of operator we will look at in this notebook is Boolean operators. This refers to the logical operations ``and``, ``or``, and ``not`` that operate on values of ``True`` and ``False``. \n",
    "\n",
    "``and`` Returns ``True`` if the values on BOTH sides of the operator are True, and ``False`` otherwise\n",
    "\n",
    "``or`` Returns ``True`` if the values on EITHER side of the operator is True, and ``False`` otherwise\n",
    "\n",
    "``not`` Returns ``True`` if the value it is given is False, and returns ``False`` if the value it is given is True\n",
    "\n",
    "Here are some examples of how they work:"
   ]
  },
  {
   "cell_type": "code",
   "execution_count": null,
   "metadata": {},
   "outputs": [
    {
     "data": {
      "text/plain": [
       "True"
      ]
     },
     "execution_count": null,
     "metadata": {},
     "output_type": "execute_result"
    }
   ],
   "source": [
    "# Is midterm_1 > 96 and midterm_2 < 100?\n",
    "midterm_1 > 96 and midterm_2 < 100"
   ]
  },
  {
   "cell_type": "code",
   "execution_count": null,
   "metadata": {},
   "outputs": [
    {
     "data": {
      "text/plain": [
       "False"
      ]
     },
     "execution_count": null,
     "metadata": {},
     "output_type": "execute_result"
    }
   ],
   "source": [
    "# Is midterm_1 98 or midterm_2 100?\n",
    "midterm_1 == 98 or midterm_2==100"
   ]
  },
  {
   "cell_type": "code",
   "execution_count": null,
   "metadata": {},
   "outputs": [
    {
     "data": {
      "text/plain": [
       "False"
      ]
     },
     "execution_count": null,
     "metadata": {},
     "output_type": "execute_result"
    }
   ],
   "source": [
    "# Is midterm_1 97?  Negate this result using not\n",
    "not(midterm_1 == 97)"
   ]
  },
  {
   "cell_type": "markdown",
   "metadata": {},
   "source": [
    "# A few last words\n",
    "Let's take a quick look at the documentation about boolean operators: https://docs.python.org/3/library/index.html\n",
    "* Shortcut operators\n",
    "* Operator precedence"
   ]
  },
  {
   "cell_type": "markdown",
   "metadata": {},
   "source": [
    "## What we've covered"
   ]
  },
  {
   "cell_type": "markdown",
   "metadata": {},
   "source": [
    "Upon completion of this notebook, you should be familiar with the following:\n",
    "\n",
    "- Variables and how to declare them\n",
    "- Types of variables and how you could find that type\n",
    "- Using Arithmetic operators to do simple and advanced arithmetic\n",
    "- Using Comparison operators to compare values\n",
    "- Using Boolean operators to evaluate logical statement involving 'True' and 'False' values"
   ]
  }
 ],
 "metadata": {
  "kernelspec": {
   "display_name": "Python 3",
   "language": "python",
   "name": "python3"
  }
 },
 "nbformat": 4,
 "nbformat_minor": 4
}
